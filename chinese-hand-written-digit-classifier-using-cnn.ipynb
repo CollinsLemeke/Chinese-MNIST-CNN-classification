{
 "cells": [
  {
   "cell_type": "markdown",
   "id": "39911543",
   "metadata": {
    "papermill": {
     "duration": 0.003953,
     "end_time": "2025-06-23T10:56:09.635188",
     "exception": false,
     "start_time": "2025-06-23T10:56:09.631235",
     "status": "completed"
    },
    "tags": []
   },
   "source": [
    "### Problem Statement:\n",
    "\n",
    "This project aims to build a deep learning model for the classification of handwritten Chinese numerals. Using the Chinese MNIST dataset, which consists of 15,000 grayscale images of size 64x64 pixels representing 15 unique Chinese numeral classes, the objective is to accurately map 15 numeric symbol to its corresponding class label.\n",
    "\n",
    "This project will leverage Convolutional Neural Networks (CNNs) to achieve efficient and accurate multiclass classification of the handwritten Chinese numeral images. The trained model will have practical applications in areas such as document digitization, educational platforms, and automated handwriting recognition systems.\n",
    "\n",
    "Chosen Library:\n",
    "\n",
    "* TensorFlow/Keras: This library provides:\n",
    "* A streamlined API for constructing and training CNN models.\n",
    "* Integrated GPU/TPU support for accelerated computation.\n",
    "* Comprehensive visualization tools for performance analysis."
   ]
  },
  {
   "cell_type": "markdown",
   "id": "cde5c0b0",
   "metadata": {
    "papermill": {
     "duration": 0.002839,
     "end_time": "2025-06-23T10:56:09.641304",
     "exception": false,
     "start_time": "2025-06-23T10:56:09.638465",
     "status": "completed"
    },
    "tags": []
   },
   "source": [
    "### Step 1:\n",
    "#### Import Libraries"
   ]
  },
  {
   "cell_type": "code",
   "execution_count": 1,
   "id": "6fb51402",
   "metadata": {
    "execution": {
     "iopub.execute_input": "2025-06-23T10:56:09.648431Z",
     "iopub.status.busy": "2025-06-23T10:56:09.648114Z",
     "iopub.status.idle": "2025-06-23T10:56:24.262743Z",
     "shell.execute_reply": "2025-06-23T10:56:24.261756Z"
    },
    "papermill": {
     "duration": 14.619706,
     "end_time": "2025-06-23T10:56:24.264118",
     "exception": false,
     "start_time": "2025-06-23T10:56:09.644412",
     "status": "completed"
    },
    "tags": []
   },
   "outputs": [
    {
     "name": "stdout",
     "output_type": "stream",
     "text": [
      "Device using: cuda\n"
     ]
    }
   ],
   "source": [
    "import pandas as pd\n",
    "import numpy as np\n",
    "\n",
    "import matplotlib.pyplot as plt\n",
    "import seaborn as sns\n",
    "import tensorflow as tf\n",
    "\n",
    "from tensorflow.keras.models import Sequential\n",
    "from tensorflow.keras.layers import Dense, Conv2D, MaxPooling2D, Flatten, Dropout\n",
    "from tensorflow.keras.utils import to_categorical\n",
    "from tensorflow.keras.callbacks import LearningRateScheduler\n",
    "from sklearn.model_selection import train_test_split\n",
    "\n",
    "import torch\n",
    "from torchvision import transforms\n",
    "from torch.utils.data import Dataset, DataLoader\n",
    "\n",
    "device = torch.device(\"cuda\" if torch.cuda.is_available() else \"cpu\")\n",
    "print(\"Device using:\", device)"
   ]
  },
  {
   "cell_type": "markdown",
   "id": "5d3404d2",
   "metadata": {
    "papermill": {
     "duration": 0.003024,
     "end_time": "2025-06-23T10:56:24.270607",
     "exception": false,
     "start_time": "2025-06-23T10:56:24.267583",
     "status": "completed"
    },
    "tags": []
   },
   "source": [
    "### Step 2: \n",
    "#### Load & Preprocess Data"
   ]
  },
  {
   "cell_type": "code",
   "execution_count": 2,
   "id": "65da9bd3",
   "metadata": {
    "execution": {
     "iopub.execute_input": "2025-06-23T10:56:24.277651Z",
     "iopub.status.busy": "2025-06-23T10:56:24.277171Z",
     "iopub.status.idle": "2025-06-23T10:56:30.693300Z",
     "shell.execute_reply": "2025-06-23T10:56:30.692217Z"
    },
    "papermill": {
     "duration": 6.421186,
     "end_time": "2025-06-23T10:56:30.694846",
     "exception": false,
     "start_time": "2025-06-23T10:56:24.273660",
     "status": "completed"
    },
    "tags": []
   },
   "outputs": [
    {
     "data": {
      "text/html": [
       "<div>\n",
       "<style scoped>\n",
       "    .dataframe tbody tr th:only-of-type {\n",
       "        vertical-align: middle;\n",
       "    }\n",
       "\n",
       "    .dataframe tbody tr th {\n",
       "        vertical-align: top;\n",
       "    }\n",
       "\n",
       "    .dataframe thead th {\n",
       "        text-align: right;\n",
       "    }\n",
       "</style>\n",
       "<table border=\"1\" class=\"dataframe\">\n",
       "  <thead>\n",
       "    <tr style=\"text-align: right;\">\n",
       "      <th></th>\n",
       "      <th>pixel_0</th>\n",
       "      <th>pixel_1</th>\n",
       "      <th>pixel_2</th>\n",
       "      <th>pixel_3</th>\n",
       "      <th>pixel_4</th>\n",
       "      <th>pixel_5</th>\n",
       "      <th>pixel_6</th>\n",
       "      <th>pixel_7</th>\n",
       "      <th>pixel_8</th>\n",
       "      <th>pixel_9</th>\n",
       "      <th>...</th>\n",
       "      <th>pixel_4088</th>\n",
       "      <th>pixel_4089</th>\n",
       "      <th>pixel_4090</th>\n",
       "      <th>pixel_4091</th>\n",
       "      <th>pixel_4092</th>\n",
       "      <th>pixel_4093</th>\n",
       "      <th>pixel_4094</th>\n",
       "      <th>pixel_4095</th>\n",
       "      <th>label</th>\n",
       "      <th>character</th>\n",
       "    </tr>\n",
       "  </thead>\n",
       "  <tbody>\n",
       "    <tr>\n",
       "      <th>0</th>\n",
       "      <td>0</td>\n",
       "      <td>0</td>\n",
       "      <td>0</td>\n",
       "      <td>0</td>\n",
       "      <td>0</td>\n",
       "      <td>0</td>\n",
       "      <td>0</td>\n",
       "      <td>0</td>\n",
       "      <td>0</td>\n",
       "      <td>0</td>\n",
       "      <td>...</td>\n",
       "      <td>0</td>\n",
       "      <td>0</td>\n",
       "      <td>0</td>\n",
       "      <td>0</td>\n",
       "      <td>0</td>\n",
       "      <td>0</td>\n",
       "      <td>0</td>\n",
       "      <td>0</td>\n",
       "      <td>9</td>\n",
       "      <td>九</td>\n",
       "    </tr>\n",
       "    <tr>\n",
       "      <th>1</th>\n",
       "      <td>0</td>\n",
       "      <td>0</td>\n",
       "      <td>0</td>\n",
       "      <td>0</td>\n",
       "      <td>0</td>\n",
       "      <td>0</td>\n",
       "      <td>0</td>\n",
       "      <td>0</td>\n",
       "      <td>0</td>\n",
       "      <td>0</td>\n",
       "      <td>...</td>\n",
       "      <td>0</td>\n",
       "      <td>0</td>\n",
       "      <td>0</td>\n",
       "      <td>0</td>\n",
       "      <td>0</td>\n",
       "      <td>0</td>\n",
       "      <td>0</td>\n",
       "      <td>0</td>\n",
       "      <td>9</td>\n",
       "      <td>九</td>\n",
       "    </tr>\n",
       "    <tr>\n",
       "      <th>2</th>\n",
       "      <td>0</td>\n",
       "      <td>0</td>\n",
       "      <td>0</td>\n",
       "      <td>0</td>\n",
       "      <td>0</td>\n",
       "      <td>0</td>\n",
       "      <td>0</td>\n",
       "      <td>0</td>\n",
       "      <td>0</td>\n",
       "      <td>0</td>\n",
       "      <td>...</td>\n",
       "      <td>0</td>\n",
       "      <td>0</td>\n",
       "      <td>0</td>\n",
       "      <td>0</td>\n",
       "      <td>0</td>\n",
       "      <td>0</td>\n",
       "      <td>0</td>\n",
       "      <td>0</td>\n",
       "      <td>9</td>\n",
       "      <td>九</td>\n",
       "    </tr>\n",
       "    <tr>\n",
       "      <th>3</th>\n",
       "      <td>0</td>\n",
       "      <td>0</td>\n",
       "      <td>0</td>\n",
       "      <td>0</td>\n",
       "      <td>0</td>\n",
       "      <td>0</td>\n",
       "      <td>0</td>\n",
       "      <td>0</td>\n",
       "      <td>0</td>\n",
       "      <td>0</td>\n",
       "      <td>...</td>\n",
       "      <td>0</td>\n",
       "      <td>0</td>\n",
       "      <td>0</td>\n",
       "      <td>0</td>\n",
       "      <td>0</td>\n",
       "      <td>0</td>\n",
       "      <td>0</td>\n",
       "      <td>0</td>\n",
       "      <td>9</td>\n",
       "      <td>九</td>\n",
       "    </tr>\n",
       "    <tr>\n",
       "      <th>4</th>\n",
       "      <td>0</td>\n",
       "      <td>0</td>\n",
       "      <td>0</td>\n",
       "      <td>0</td>\n",
       "      <td>0</td>\n",
       "      <td>0</td>\n",
       "      <td>0</td>\n",
       "      <td>0</td>\n",
       "      <td>0</td>\n",
       "      <td>0</td>\n",
       "      <td>...</td>\n",
       "      <td>0</td>\n",
       "      <td>0</td>\n",
       "      <td>0</td>\n",
       "      <td>0</td>\n",
       "      <td>0</td>\n",
       "      <td>0</td>\n",
       "      <td>0</td>\n",
       "      <td>0</td>\n",
       "      <td>9</td>\n",
       "      <td>九</td>\n",
       "    </tr>\n",
       "    <tr>\n",
       "      <th>...</th>\n",
       "      <td>...</td>\n",
       "      <td>...</td>\n",
       "      <td>...</td>\n",
       "      <td>...</td>\n",
       "      <td>...</td>\n",
       "      <td>...</td>\n",
       "      <td>...</td>\n",
       "      <td>...</td>\n",
       "      <td>...</td>\n",
       "      <td>...</td>\n",
       "      <td>...</td>\n",
       "      <td>...</td>\n",
       "      <td>...</td>\n",
       "      <td>...</td>\n",
       "      <td>...</td>\n",
       "      <td>...</td>\n",
       "      <td>...</td>\n",
       "      <td>...</td>\n",
       "      <td>...</td>\n",
       "      <td>...</td>\n",
       "      <td>...</td>\n",
       "    </tr>\n",
       "    <tr>\n",
       "      <th>14995</th>\n",
       "      <td>0</td>\n",
       "      <td>0</td>\n",
       "      <td>0</td>\n",
       "      <td>0</td>\n",
       "      <td>0</td>\n",
       "      <td>0</td>\n",
       "      <td>0</td>\n",
       "      <td>0</td>\n",
       "      <td>0</td>\n",
       "      <td>0</td>\n",
       "      <td>...</td>\n",
       "      <td>0</td>\n",
       "      <td>0</td>\n",
       "      <td>0</td>\n",
       "      <td>0</td>\n",
       "      <td>0</td>\n",
       "      <td>0</td>\n",
       "      <td>0</td>\n",
       "      <td>0</td>\n",
       "      <td>8</td>\n",
       "      <td>八</td>\n",
       "    </tr>\n",
       "    <tr>\n",
       "      <th>14996</th>\n",
       "      <td>0</td>\n",
       "      <td>0</td>\n",
       "      <td>0</td>\n",
       "      <td>0</td>\n",
       "      <td>0</td>\n",
       "      <td>0</td>\n",
       "      <td>0</td>\n",
       "      <td>0</td>\n",
       "      <td>0</td>\n",
       "      <td>0</td>\n",
       "      <td>...</td>\n",
       "      <td>0</td>\n",
       "      <td>0</td>\n",
       "      <td>0</td>\n",
       "      <td>0</td>\n",
       "      <td>0</td>\n",
       "      <td>0</td>\n",
       "      <td>0</td>\n",
       "      <td>0</td>\n",
       "      <td>8</td>\n",
       "      <td>八</td>\n",
       "    </tr>\n",
       "    <tr>\n",
       "      <th>14997</th>\n",
       "      <td>0</td>\n",
       "      <td>0</td>\n",
       "      <td>0</td>\n",
       "      <td>0</td>\n",
       "      <td>0</td>\n",
       "      <td>0</td>\n",
       "      <td>0</td>\n",
       "      <td>0</td>\n",
       "      <td>0</td>\n",
       "      <td>0</td>\n",
       "      <td>...</td>\n",
       "      <td>0</td>\n",
       "      <td>0</td>\n",
       "      <td>0</td>\n",
       "      <td>0</td>\n",
       "      <td>0</td>\n",
       "      <td>0</td>\n",
       "      <td>0</td>\n",
       "      <td>0</td>\n",
       "      <td>8</td>\n",
       "      <td>八</td>\n",
       "    </tr>\n",
       "    <tr>\n",
       "      <th>14998</th>\n",
       "      <td>0</td>\n",
       "      <td>0</td>\n",
       "      <td>0</td>\n",
       "      <td>0</td>\n",
       "      <td>0</td>\n",
       "      <td>0</td>\n",
       "      <td>0</td>\n",
       "      <td>0</td>\n",
       "      <td>0</td>\n",
       "      <td>0</td>\n",
       "      <td>...</td>\n",
       "      <td>0</td>\n",
       "      <td>0</td>\n",
       "      <td>0</td>\n",
       "      <td>0</td>\n",
       "      <td>0</td>\n",
       "      <td>0</td>\n",
       "      <td>0</td>\n",
       "      <td>0</td>\n",
       "      <td>8</td>\n",
       "      <td>八</td>\n",
       "    </tr>\n",
       "    <tr>\n",
       "      <th>14999</th>\n",
       "      <td>0</td>\n",
       "      <td>0</td>\n",
       "      <td>0</td>\n",
       "      <td>0</td>\n",
       "      <td>0</td>\n",
       "      <td>0</td>\n",
       "      <td>0</td>\n",
       "      <td>0</td>\n",
       "      <td>0</td>\n",
       "      <td>0</td>\n",
       "      <td>...</td>\n",
       "      <td>0</td>\n",
       "      <td>0</td>\n",
       "      <td>0</td>\n",
       "      <td>0</td>\n",
       "      <td>0</td>\n",
       "      <td>0</td>\n",
       "      <td>0</td>\n",
       "      <td>0</td>\n",
       "      <td>8</td>\n",
       "      <td>八</td>\n",
       "    </tr>\n",
       "  </tbody>\n",
       "</table>\n",
       "<p>15000 rows × 4098 columns</p>\n",
       "</div>"
      ],
      "text/plain": [
       "       pixel_0  pixel_1  pixel_2  pixel_3  pixel_4  pixel_5  pixel_6  pixel_7  \\\n",
       "0            0        0        0        0        0        0        0        0   \n",
       "1            0        0        0        0        0        0        0        0   \n",
       "2            0        0        0        0        0        0        0        0   \n",
       "3            0        0        0        0        0        0        0        0   \n",
       "4            0        0        0        0        0        0        0        0   \n",
       "...        ...      ...      ...      ...      ...      ...      ...      ...   \n",
       "14995        0        0        0        0        0        0        0        0   \n",
       "14996        0        0        0        0        0        0        0        0   \n",
       "14997        0        0        0        0        0        0        0        0   \n",
       "14998        0        0        0        0        0        0        0        0   \n",
       "14999        0        0        0        0        0        0        0        0   \n",
       "\n",
       "       pixel_8  pixel_9  ...  pixel_4088  pixel_4089  pixel_4090  pixel_4091  \\\n",
       "0            0        0  ...           0           0           0           0   \n",
       "1            0        0  ...           0           0           0           0   \n",
       "2            0        0  ...           0           0           0           0   \n",
       "3            0        0  ...           0           0           0           0   \n",
       "4            0        0  ...           0           0           0           0   \n",
       "...        ...      ...  ...         ...         ...         ...         ...   \n",
       "14995        0        0  ...           0           0           0           0   \n",
       "14996        0        0  ...           0           0           0           0   \n",
       "14997        0        0  ...           0           0           0           0   \n",
       "14998        0        0  ...           0           0           0           0   \n",
       "14999        0        0  ...           0           0           0           0   \n",
       "\n",
       "       pixel_4092  pixel_4093  pixel_4094  pixel_4095  label  character  \n",
       "0               0           0           0           0      9          九  \n",
       "1               0           0           0           0      9          九  \n",
       "2               0           0           0           0      9          九  \n",
       "3               0           0           0           0      9          九  \n",
       "4               0           0           0           0      9          九  \n",
       "...           ...         ...         ...         ...    ...        ...  \n",
       "14995           0           0           0           0      8          八  \n",
       "14996           0           0           0           0      8          八  \n",
       "14997           0           0           0           0      8          八  \n",
       "14998           0           0           0           0      8          八  \n",
       "14999           0           0           0           0      8          八  \n",
       "\n",
       "[15000 rows x 4098 columns]"
      ]
     },
     "metadata": {},
     "output_type": "display_data"
    }
   ],
   "source": [
    "data = pd.read_csv(\"/kaggle/input/chinese-mnist-digit-recognizer/chineseMNIST.csv\")\n",
    "display(data)"
   ]
  },
  {
   "cell_type": "code",
   "execution_count": 3,
   "id": "5fefe87b",
   "metadata": {
    "execution": {
     "iopub.execute_input": "2025-06-23T10:56:30.703616Z",
     "iopub.status.busy": "2025-06-23T10:56:30.703316Z",
     "iopub.status.idle": "2025-06-23T10:56:30.716389Z",
     "shell.execute_reply": "2025-06-23T10:56:30.715445Z"
    },
    "papermill": {
     "duration": 0.018691,
     "end_time": "2025-06-23T10:56:30.717745",
     "exception": false,
     "start_time": "2025-06-23T10:56:30.699054",
     "status": "completed"
    },
    "tags": []
   },
   "outputs": [
    {
     "name": "stdout",
     "output_type": "stream",
     "text": [
      "Characters: 15: ['九', '十', '百', '千', '万', '亿', '零', '一', '二', '三', '四', '五', '六', '七', '八']\n",
      "\n",
      "Numbers: 15: [9, 10, 100, 1000, 10000, 100000000, 0, 1, 2, 3, 4, 5, 6, 7, 8]\n"
     ]
    }
   ],
   "source": [
    "print(f\"Characters: {data.character.nunique()}: {list(data.character.unique())}\")\n",
    "print()\n",
    "print(f\"Numbers: {data.label.nunique()}: {list(data.label.unique())}\")"
   ]
  },
  {
   "cell_type": "code",
   "execution_count": 4,
   "id": "04d4d8ae",
   "metadata": {
    "execution": {
     "iopub.execute_input": "2025-06-23T10:56:30.725696Z",
     "iopub.status.busy": "2025-06-23T10:56:30.725446Z",
     "iopub.status.idle": "2025-06-23T10:56:31.743418Z",
     "shell.execute_reply": "2025-06-23T10:56:31.742698Z"
    },
    "papermill": {
     "duration": 1.023588,
     "end_time": "2025-06-23T10:56:31.744843",
     "exception": false,
     "start_time": "2025-06-23T10:56:30.721255",
     "status": "completed"
    },
    "tags": []
   },
   "outputs": [],
   "source": [
    "X = data.iloc[:, :-2].values\n",
    "y = data['label'].values\n",
    "\n",
    "num_classes = 10\n",
    "y[y >= num_classes] = num_classes - 1\n",
    "\n",
    "X = X / 255.0\n",
    "\n",
    "X = X.reshape(-1, 64, 64, 1)\n",
    "\n",
    "y = to_categorical(y, num_classes=num_classes)\n",
    "\n",
    "X_train, X_test, y_train, y_test = train_test_split(X, y, test_size=0.2, random_state=42)"
   ]
  },
  {
   "cell_type": "markdown",
   "id": "c864f65a",
   "metadata": {
    "papermill": {
     "duration": 0.003419,
     "end_time": "2025-06-23T10:56:31.752277",
     "exception": false,
     "start_time": "2025-06-23T10:56:31.748858",
     "status": "completed"
    },
    "tags": []
   },
   "source": [
    "### Step 3:\n",
    "#### Visualise Data"
   ]
  },
  {
   "cell_type": "code",
   "execution_count": 5,
   "id": "bf8d1442",
   "metadata": {
    "execution": {
     "iopub.execute_input": "2025-06-23T10:56:31.760166Z",
     "iopub.status.busy": "2025-06-23T10:56:31.759918Z",
     "iopub.status.idle": "2025-06-23T10:56:31.943183Z",
     "shell.execute_reply": "2025-06-23T10:56:31.942376Z"
    },
    "papermill": {
     "duration": 0.188634,
     "end_time": "2025-06-23T10:56:31.944471",
     "exception": false,
     "start_time": "2025-06-23T10:56:31.755837",
     "status": "completed"
    },
    "tags": []
   },
   "outputs": [
    {
     "data": {
      "image/png": "[encoded data removed]",
      "text/plain": [
       "<Figure size 640x480 with 1 Axes>"
      ]
     },
     "metadata": {},
     "output_type": "display_data"
    }
   ],
   "source": [
    "def plot_sample(index):\n",
    "    image = np.flipud(X_train[index].reshape(64, 64))\n",
    "    plt.imshow(image, cmap='gray')\n",
    "    label = np.argmax(y_train[index]) if len(y_train[index].shape) > 0 else y_train[index]\n",
    "    \n",
    "    plt.title(f\"Label: {label}\")\n",
    "    plt.show()\n",
    "\n",
    "# Visualise a sample\n",
    "plot_sample(4)"
   ]
  },
  {
   "cell_type": "markdown",
   "id": "a3b60bfd",
   "metadata": {
    "papermill": {
     "duration": 0.003571,
     "end_time": "2025-06-23T10:56:31.952106",
     "exception": false,
     "start_time": "2025-06-23T10:56:31.948535",
     "status": "completed"
    },
    "tags": []
   },
   "source": [
    "### Step 4:\n",
    "#### Build a CNN Model"
   ]
  },
  {
   "cell_type": "code",
   "execution_count": 6,
   "id": "635c3fae",
   "metadata": {
    "execution": {
     "iopub.execute_input": "2025-06-23T10:56:31.960293Z",
     "iopub.status.busy": "2025-06-23T10:56:31.960056Z",
     "iopub.status.idle": "2025-06-23T10:56:32.539429Z",
     "shell.execute_reply": "2025-06-23T10:56:32.538568Z"
    },
    "papermill": {
     "duration": 0.585052,
     "end_time": "2025-06-23T10:56:32.540871",
     "exception": false,
     "start_time": "2025-06-23T10:56:31.955819",
     "status": "completed"
    },
    "tags": []
   },
   "outputs": [
    {
     "name": "stderr",
     "output_type": "stream",
     "text": [
      "/usr/local/lib/python3.10/dist-packages/keras/src/layers/convolutional/base_conv.py:107: UserWarning: Do not pass an `input_shape`/`input_dim` argument to a layer. When using Sequential models, prefer using an `Input(shape)` object as the first layer in the model instead.\n",
      "  super().__init__(activity_regularizer=activity_regularizer, **kwargs)\n"
     ]
    },
    {
     "data": {
      "text/plain": [
       "<Sequential name=sequential, built=True>"
      ]
     },
     "metadata": {},
     "output_type": "display_data"
    }
   ],
   "source": [
    "model = Sequential([\n",
    "    Conv2D(32, (3, 3), activation='relu', input_shape=(64, 64, 1)),\n",
    "    MaxPooling2D((2, 2)),\n",
    "\n",
    "    Conv2D(64, (3, 3), activation='relu'),\n",
    "    MaxPooling2D((2, 2)),\n",
    "\n",
    "    Flatten(),\n",
    "\n",
    "    Dense(128, activation='relu'),\n",
    "    Dropout(0.5),\n",
    "\n",
    "    Dense(10, activation='softmax')\n",
    "])\n",
    "\n",
    "display(model)"
   ]
  },
  {
   "cell_type": "markdown",
   "id": "d7ef067b",
   "metadata": {
    "papermill": {
     "duration": 0.003958,
     "end_time": "2025-06-23T10:56:32.549147",
     "exception": false,
     "start_time": "2025-06-23T10:56:32.545189",
     "status": "completed"
    },
    "tags": []
   },
   "source": [
    "### Step 5:\n",
    "#### Compile Model"
   ]
  },
  {
   "cell_type": "code",
   "execution_count": 7,
   "id": "34b45a3e",
   "metadata": {
    "execution": {
     "iopub.execute_input": "2025-06-23T10:56:32.557939Z",
     "iopub.status.busy": "2025-06-23T10:56:32.557682Z",
     "iopub.status.idle": "2025-06-23T10:56:32.568560Z",
     "shell.execute_reply": "2025-06-23T10:56:32.567751Z"
    },
    "papermill": {
     "duration": 0.016945,
     "end_time": "2025-06-23T10:56:32.570063",
     "exception": false,
     "start_time": "2025-06-23T10:56:32.553118",
     "status": "completed"
    },
    "tags": []
   },
   "outputs": [],
   "source": [
    "model.compile(\n",
    "    optimizer='adam',\n",
    "    loss='categorical_crossentropy',\n",
    "    metrics=['accuracy']\n",
    ")"
   ]
  },
  {
   "cell_type": "markdown",
   "id": "26459bd4",
   "metadata": {
    "papermill": {
     "duration": 0.006609,
     "end_time": "2025-06-23T10:56:32.584249",
     "exception": false,
     "start_time": "2025-06-23T10:56:32.577640",
     "status": "completed"
    },
    "tags": []
   },
   "source": [
    "### Step 6:\n",
    "#### Train Model"
   ]
  },
  {
   "cell_type": "code",
   "execution_count": 8,
   "id": "5bf425fd",
   "metadata": {
    "execution": {
     "iopub.execute_input": "2025-06-23T10:56:32.593091Z",
     "iopub.status.busy": "2025-06-23T10:56:32.592883Z",
     "iopub.status.idle": "2025-06-23T10:56:55.517283Z",
     "shell.execute_reply": "2025-06-23T10:56:55.516396Z"
    },
    "papermill": {
     "duration": 22.930555,
     "end_time": "2025-06-23T10:56:55.518806",
     "exception": false,
     "start_time": "2025-06-23T10:56:32.588251",
     "status": "completed"
    },
    "tags": []
   },
   "outputs": [
    {
     "name": "stdout",
     "output_type": "stream",
     "text": [
      "Epoch 1/10\n",
      "\u001b[1m375/375\u001b[0m \u001b[32m━━━━━━━━━━━━━━━━━━━━\u001b[0m\u001b[37m\u001b[0m \u001b[1m7s\u001b[0m 7ms/step - accuracy: 0.5524 - loss: 1.4020 - val_accuracy: 0.8983 - val_loss: 0.3311\n",
      "Epoch 2/10\n",
      "\u001b[1m375/375\u001b[0m \u001b[32m━━━━━━━━━━━━━━━━━━━━\u001b[0m\u001b[37m\u001b[0m \u001b[1m2s\u001b[0m 4ms/step - accuracy: 0.8621 - loss: 0.3952 - val_accuracy: 0.9277 - val_loss: 0.2090\n",
      "Epoch 3/10\n",
      "\u001b[1m375/375\u001b[0m \u001b[32m━━━━━━━━━━━━━━━━━━━━\u001b[0m\u001b[37m\u001b[0m \u001b[1m2s\u001b[0m 4ms/step - accuracy: 0.9040 - loss: 0.2600 - val_accuracy: 0.9473 - val_loss: 0.1560\n",
      "Epoch 4/10\n",
      "\u001b[1m375/375\u001b[0m \u001b[32m━━━━━━━━━━━━━━━━━━━━\u001b[0m\u001b[37m\u001b[0m \u001b[1m2s\u001b[0m 4ms/step - accuracy: 0.9266 - loss: 0.2106 - val_accuracy: 0.9640 - val_loss: 0.1169\n",
      "Epoch 5/10\n",
      "\u001b[1m375/375\u001b[0m \u001b[32m━━━━━━━━━━━━━━━━━━━━\u001b[0m\u001b[37m\u001b[0m \u001b[1m2s\u001b[0m 4ms/step - accuracy: 0.9410 - loss: 0.1611 - val_accuracy: 0.9603 - val_loss: 0.1183\n",
      "Epoch 6/10\n",
      "\u001b[1m375/375\u001b[0m \u001b[32m━━━━━━━━━━━━━━━━━━━━\u001b[0m\u001b[37m\u001b[0m \u001b[1m2s\u001b[0m 4ms/step - accuracy: 0.9458 - loss: 0.1481 - val_accuracy: 0.9640 - val_loss: 0.1141\n",
      "Epoch 7/10\n",
      "\u001b[1m375/375\u001b[0m \u001b[32m━━━━━━━━━━━━━━━━━━━━\u001b[0m\u001b[37m\u001b[0m \u001b[1m2s\u001b[0m 4ms/step - accuracy: 0.9546 - loss: 0.1306 - val_accuracy: 0.9647 - val_loss: 0.1046\n",
      "Epoch 8/10\n",
      "\u001b[1m375/375\u001b[0m \u001b[32m━━━━━━━━━━━━━━━━━━━━\u001b[0m\u001b[37m\u001b[0m \u001b[1m2s\u001b[0m 4ms/step - accuracy: 0.9634 - loss: 0.1060 - val_accuracy: 0.9680 - val_loss: 0.0958\n",
      "Epoch 9/10\n",
      "\u001b[1m375/375\u001b[0m \u001b[32m━━━━━━━━━━━━━━━━━━━━\u001b[0m\u001b[37m\u001b[0m \u001b[1m2s\u001b[0m 4ms/step - accuracy: 0.9668 - loss: 0.0947 - val_accuracy: 0.9723 - val_loss: 0.0884\n",
      "Epoch 10/10\n",
      "\u001b[1m375/375\u001b[0m \u001b[32m━━━━━━━━━━━━━━━━━━━━\u001b[0m\u001b[37m\u001b[0m \u001b[1m2s\u001b[0m 4ms/step - accuracy: 0.9670 - loss: 0.0874 - val_accuracy: 0.9763 - val_loss: 0.0753\n"
     ]
    }
   ],
   "source": [
    "def lr_schedule(epoch, lr):\n",
    "    if epoch < 5:\n",
    "        return lr  # Keep learning rate the same for the first 5 epochs\n",
    "    else:\n",
    "        return lr * 0.1  # Reduce the learning rate by a factor of 0.1 after epoch 5\n",
    "\n",
    "lr_callback = LearningRateScheduler(lr_schedule)\n",
    "\n",
    "history = model.fit(\n",
    "    X_train, y_train,\n",
    "    validation_data=(X_test, y_test),\n",
    "    epochs=10,\n",
    "    batch_size=32,\n",
    "    verbose=1,\n",
    ")"
   ]
  },
  {
   "cell_type": "markdown",
   "id": "3cd73b6b",
   "metadata": {
    "papermill": {
     "duration": 0.017394,
     "end_time": "2025-06-23T10:56:55.556055",
     "exception": false,
     "start_time": "2025-06-23T10:56:55.538661",
     "status": "completed"
    },
    "tags": []
   },
   "source": [
    "### Step 7:\n",
    "#### Evaluate Model"
   ]
  },
  {
   "cell_type": "code",
   "execution_count": 9,
   "id": "18ea7468",
   "metadata": {
    "execution": {
     "iopub.execute_input": "2025-06-23T10:56:55.592578Z",
     "iopub.status.busy": "2025-06-23T10:56:55.592266Z",
     "iopub.status.idle": "2025-06-23T10:56:55.859328Z",
     "shell.execute_reply": "2025-06-23T10:56:55.858518Z"
    },
    "papermill": {
     "duration": 0.28694,
     "end_time": "2025-06-23T10:56:55.860905",
     "exception": false,
     "start_time": "2025-06-23T10:56:55.573965",
     "status": "completed"
    },
    "tags": []
   },
   "outputs": [
    {
     "name": "stdout",
     "output_type": "stream",
     "text": [
      "\u001b[1m94/94\u001b[0m \u001b[32m━━━━━━━━━━━━━━━━━━━━\u001b[0m\u001b[37m\u001b[0m \u001b[1m0s\u001b[0m 2ms/step - accuracy: 0.9770 - loss: 0.0836\n",
      "Test Loss: 0.07533564418554306\n",
      "Test Accuracy: 0.9763333201408386\n"
     ]
    }
   ],
   "source": [
    "loss, accuracy = model.evaluate(X_test, y_test)\n",
    "print(f\"Test Loss: {loss}\\nTest Accuracy: {accuracy}\")"
   ]
  },
  {
   "cell_type": "markdown",
   "id": "2cc5d37d",
   "metadata": {
    "papermill": {
     "duration": 0.017513,
     "end_time": "2025-06-23T10:56:55.897910",
     "exception": false,
     "start_time": "2025-06-23T10:56:55.880397",
     "status": "completed"
    },
    "tags": []
   },
   "source": [
    "### Step 8:\n",
    "#### Visualise Test Results"
   ]
  },
  {
   "cell_type": "code",
   "execution_count": 10,
   "id": "e9da867b",
   "metadata": {
    "execution": {
     "iopub.execute_input": "2025-06-23T10:56:55.934042Z",
     "iopub.status.busy": "2025-06-23T10:56:55.933794Z",
     "iopub.status.idle": "2025-06-23T10:56:56.460464Z",
     "shell.execute_reply": "2025-06-23T10:56:56.459587Z"
    },
    "papermill": {
     "duration": 0.5466,
     "end_time": "2025-06-23T10:56:56.462205",
     "exception": false,
     "start_time": "2025-06-23T10:56:55.915605",
     "status": "completed"
    },
    "tags": []
   },
   "outputs": [
    {
     "data": {
      "image/png": "[encoded data removed]",
      "text/plain": [
       "<Figure size 1500x600 with 2 Axes>"
      ]
     },
     "metadata": {},
     "output_type": "display_data"
    }
   ],
   "source": [
    "history = history.history\n",
    "\n",
    "test_loss = 0.081\n",
    "test_accuracy = 0.97\n",
    "\n",
    "plt.figure(figsize=(15, 6))\n",
    "\n",
    "# Accuracy plot\n",
    "plt.subplot(1, 2, 1)\n",
    "plt.plot(history['accuracy'], label='Training Accuracy', color='blue', linewidth=2, marker='o', markersize=8)\n",
    "plt.plot(history['val_accuracy'], label='Validation Accuracy', color='orange', linewidth=2, marker='s', markersize=8)\n",
    "plt.axhline(y=test_accuracy, color='green', linestyle='--', label=f'Test Accuracy: {test_accuracy*100:.2f}%')\n",
    "plt.title('Accuracy over Epochs', fontsize=16, fontweight='bold')\n",
    "plt.xlabel('Epochs', fontsize=14)\n",
    "plt.ylabel('Accuracy', fontsize=14)\n",
    "plt.legend(loc='lower right', fontsize=12)\n",
    "plt.grid(True, linestyle='--', alpha=0.7)\n",
    "\n",
    "# Loss plot\n",
    "plt.subplot(1, 2, 2)\n",
    "plt.plot(history['loss'], label='Training Loss', color='seagreen', linewidth=2, marker='o', markersize=8)\n",
    "plt.plot(history['val_loss'], label='Validation Loss', color='red', linewidth=2, marker='s', markersize=8)\n",
    "plt.axhline(y=test_loss, color='purple', linestyle='--', label=f'Test Loss: {test_loss:.4f}')\n",
    "plt.title('Loss over Epochs', fontsize=16, fontweight='bold')\n",
    "plt.xlabel('Epochs', fontsize=14)\n",
    "plt.ylabel('Loss', fontsize=14)\n",
    "plt.legend(loc='upper right', fontsize=12)\n",
    "plt.grid(True, linestyle='--', alpha=0.7)\n",
    "\n",
    "# Tight layout for better spacing\n",
    "plt.tight_layout()\n",
    "plt.show()"
   ]
  },
  {
   "cell_type": "markdown",
   "id": "41b46555",
   "metadata": {
    "papermill": {
     "duration": 0.01976,
     "end_time": "2025-06-23T10:56:56.503149",
     "exception": false,
     "start_time": "2025-06-23T10:56:56.483389",
     "status": "completed"
    },
    "tags": []
   },
   "source": [
    "### Step 9:\n",
    "#### Make Predictions"
   ]
  },
  {
   "cell_type": "code",
   "execution_count": 11,
   "id": "74fa82e1",
   "metadata": {
    "execution": {
     "iopub.execute_input": "2025-06-23T10:56:56.544487Z",
     "iopub.status.busy": "2025-06-23T10:56:56.544154Z",
     "iopub.status.idle": "2025-06-23T10:56:57.166523Z",
     "shell.execute_reply": "2025-06-23T10:56:57.165644Z"
    },
    "papermill": {
     "duration": 0.644579,
     "end_time": "2025-06-23T10:56:57.167963",
     "exception": false,
     "start_time": "2025-06-23T10:56:56.523384",
     "status": "completed"
    },
    "tags": []
   },
   "outputs": [
    {
     "name": "stdout",
     "output_type": "stream",
     "text": [
      "\u001b[1m1/1\u001b[0m \u001b[32m━━━━━━━━━━━━━━━━━━━━\u001b[0m\u001b[37m\u001b[0m \u001b[1m0s\u001b[0m 354ms/step\n"
     ]
    },
    {
     "data": {
      "image/png": "[encoded data removed]",
      "text/plain": [
       "<Figure size 640x480 with 1 Axes>"
      ]
     },
     "metadata": {},
     "output_type": "display_data"
    }
   ],
   "source": [
    "def predict_sample(index):\n",
    "    prediction=model.predict(X_test[index].reshape(1, 64, 64, 1))\n",
    "    plt.imshow(X_test[index].reshape(64, 64), cmap='gray')\n",
    "    plt.title(f\"Predicted: {np.argmax(prediction)} | True: {np.argmax(y_test[index])}\")\n",
    "    plt.show()\n",
    "\n",
    "predict_sample(7)"
   ]
  },
  {
   "cell_type": "markdown",
   "id": "54fdc0aa",
   "metadata": {
    "papermill": {
     "duration": 0.02007,
     "end_time": "2025-06-23T10:56:57.209001",
     "exception": false,
     "start_time": "2025-06-23T10:56:57.188931",
     "status": "completed"
    },
    "tags": []
   },
   "source": [
    "### Conclusion Summary:\n",
    "\n",
    "\n",
    "To evaluate the performance of the trained model, we take the 3rd sample (index 2) from the test dataset (X_test). This sample is passed through the model for prediction. The model generates a predicted label based on the image.\n",
    "\n",
    "We then display the image alongside the predicted label and true label (actual value) as the title of the plot. This allows us to visually compare how accurately the model predicted the label for this specific test image.\n",
    "\n",
    "By using this approach, we can assess the model’s performance on individual test samples, providing insight into its accuracy and ability to generalize to unseen data."
   ]
  }
 ],
 "metadata": {
  "kaggle": {
   "accelerator": "nvidiaTeslaT4",
   "dataSources": [
    {
     "datasetId": 1396483,
     "sourceId": 2314159,
     "sourceType": "datasetVersion"
    }
   ],
   "dockerImageVersionId": 30823,
   "isGpuEnabled": true,
   "isInternetEnabled": true,
   "language": "python",
   "sourceType": "notebook"
  },
  "kernelspec": {
   "display_name": "Python 3",
   "language": "python",
   "name": "python3"
  },
  "language_info": {
   "codemirror_mode": {
    "name": "ipython",
    "version": 3
   },
   "file_extension": ".py",
   "mimetype": "text/x-python",
   "name": "python",
   "nbconvert_exporter": "python",
   "pygments_lexer": "ipython3",
   "version": "3.10.12"
  },
  "papermill": {
   "default_parameters": {},
   "duration": 52.811717,
   "end_time": "2025-06-23T10:57:00.142799",
   "environment_variables": {},
   "exception": null,
   "input_path": "__notebook__.ipynb",
   "output_path": "__notebook__.ipynb",
   "parameters": {},
   "start_time": "2025-06-23T10:56:07.331082",
   "version": "2.6.0"
  }
 },
 "nbformat": 4,
 "nbformat_minor": 5
}
